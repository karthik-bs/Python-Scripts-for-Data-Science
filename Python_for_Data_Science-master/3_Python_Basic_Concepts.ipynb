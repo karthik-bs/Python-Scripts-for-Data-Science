{
 "metadata": {
  "name": "",
  "signature": "sha256:d2083ca2409e110c6168801712cb39ed49de3290dc773ba2f2e6e3ed408b3e06"
 },
 "nbformat": 3,
 "nbformat_minor": 0,
 "worksheets": [
  {
   "cells": [
    {
     "cell_type": "heading",
     "level": 1,
     "metadata": {},
     "source": [
      "Python for Data Science"
     ]
    },
    {
     "cell_type": "markdown",
     "metadata": {},
     "source": [
      "[Joe McCarthy](http://interrelativity.com/joe), \n",
      "*Director, Analytics & Data Science*, [Atigeo, LLC](http://atigeo.com)"
     ]
    },
    {
     "cell_type": "code",
     "collapsed": false,
     "input": [
      "from IPython.display import display, Image, HTML"
     ],
     "language": "python",
     "metadata": {},
     "outputs": [],
     "prompt_number": 1
    },
    {
     "cell_type": "heading",
     "level": 3,
     "metadata": {},
     "source": [
      "Navigation"
     ]
    },
    {
     "cell_type": "markdown",
     "metadata": {},
     "source": [
      "Notebooks in this primer:\n",
      "\n",
      "* [1. Introduction](1_Introduction.ipynb)\n",
      "* [2. Data Science: Basic Concepts](2_Data_Science_Basic_Concepts.ipynb)\n",
      "* **3. Python: Basic Concepts** (*you are here*)\n",
      "* [4. Using Python to Build and Use a Simple Decision Tree Classifier](4_Python_Simple_Decision_Tree.ipynb)\n",
      "* [5. Next Steps](5_Next_Steps.ipynb)"
     ]
    },
    {
     "cell_type": "heading",
     "level": 2,
     "metadata": {},
     "source": [
      "3. Python: Basic Concepts"
     ]
    },
    {
     "cell_type": "heading",
     "level": 3,
     "metadata": {},
     "source": [
      "Identifiers, strings, lists and tuples"
     ]
    },
    {
     "cell_type": "markdown",
     "metadata": {},
     "source": [
      "The sample instance shown above can be represented as a string. A Python *string* ([`str`](http://docs.python.org/2/tutorial/introduction.html#strings)) is a sequence of 0 or more characters enclosed within a pair of single quotes (`'`) or a pair double quotes (`\"`). "
     ]
    },
    {
     "cell_type": "code",
     "collapsed": false,
     "input": [
      "'p,k,f,n,f,n,f,c,n,w,e,?,k,y,w,n,p,w,o,e,w,v,d'"
     ],
     "language": "python",
     "metadata": {},
     "outputs": [
      {
       "metadata": {},
       "output_type": "pyout",
       "prompt_number": 2,
       "text": [
        "'p,k,f,n,f,n,f,c,n,w,e,?,k,y,w,n,p,w,o,e,w,v,d'"
       ]
      }
     ],
     "prompt_number": 2
    },
    {
     "cell_type": "markdown",
     "metadata": {},
     "source": [
      "Python [*identifiers*](http://docs.python.org/2/reference/lexical_analysis.html#identifiers) (or [*names*](https://docs.python.org/2/reference/executionmodel.html#naming-and-binding)) are composed of letters, numbers and/or underscores ('`_`'), starting with a letter or underscore. Python identifiers are case sensitive. Although camelCase identifiers can be used, it is generally considered more [pythonic](http://python.net/~goodger/projects/pycon/2007/idiomatic/handout.html) to use underscores. Python variables and functions typically start with lowercase letters; Python classes start with uppercase letters.\n",
      "\n",
      "The following [assignment statement](http://docs.python.org/2/reference/simple_stmts.html#assignment-statements) binds the value of the string shown above to the name `single_instance_str`."
     ]
    },
    {
     "cell_type": "code",
     "collapsed": false,
     "input": [
      "single_instance_str = 'p,k,f,n,f,n,f,c,n,w,e,?,k,y,w,n,p,w,o,e,w,v,d'"
     ],
     "language": "python",
     "metadata": {},
     "outputs": [],
     "prompt_number": 3
    },
    {
     "cell_type": "markdown",
     "metadata": {},
     "source": [
      "The [**`print`**](http://docs.python.org/2/tutorial/inputoutput.html) statement writes the value of its comma-delimited arguments to [`sys.stdout`](http://docs.python.org/2/library/sys.html#sys.stdout) (typically the console). Each value in the output is separated by a single blank space. If the last argument is followed by a comma, the output cursor will stay on the same line."
     ]
    },
    {
     "cell_type": "code",
     "collapsed": false,
     "input": [
      "print 'Instance 1:', single_instance_str\n",
      "print 'A', 'B', # note comma at the end\n",
      "print 'C' # will appear on same line"
     ],
     "language": "python",
     "metadata": {},
     "outputs": [
      {
       "output_type": "stream",
       "stream": "stdout",
       "text": [
        "Instance 1: p,k,f,n,f,n,f,c,n,w,e,?,k,y,w,n,p,w,o,e,w,v,d\n",
        "A B C\n"
       ]
      }
     ],
     "prompt_number": 4
    },
    {
     "cell_type": "markdown",
     "metadata": {},
     "source": [
      "The Python comment character is `'#'`: anything after `'#'` on the line is ignored by the Python interpreter. \n",
      "\n",
      "Pairs of triple quotes (`'''` or `\"\"\"`) can be used to delimit multi-line comments."
     ]
    },
    {
     "cell_type": "code",
     "collapsed": false,
     "input": [
      "'''\n",
      "A multi-line\n",
      "comment\n",
      "'''\n",
      "print 'no comment'"
     ],
     "language": "python",
     "metadata": {},
     "outputs": [
      {
       "output_type": "stream",
       "stream": "stdout",
       "text": [
        "no comment\n"
       ]
      }
     ],
     "prompt_number": 5
    },
    {
     "cell_type": "markdown",
     "metadata": {},
     "source": [
      "A [`list`](http://docs.python.org/2/tutorial/introduction.html#lists) is an ordered sequence of 0 or more comma-delimited elements enclosed within square brackets ('`[`', '`]`'). The Python [`str.split(sep)`](http://docs.python.org/2/library/stdtypes.html#str.split) method can be used to split a `sep`-delimited string into a corresponding list of elements."
     ]
    },
    {
     "cell_type": "code",
     "collapsed": false,
     "input": [
      "single_instance_list = single_instance_str.split(',')\n",
      "print single_instance_list"
     ],
     "language": "python",
     "metadata": {},
     "outputs": [
      {
       "output_type": "stream",
       "stream": "stdout",
       "text": [
        "['p', 'k', 'f', 'n', 'f', 'n', 'f', 'c', 'n', 'w', 'e', '?', 'k', 'y', 'w', 'n', 'p', 'w', 'o', 'e', 'w', 'v', 'd']\n"
       ]
      }
     ],
     "prompt_number": 6
    },
    {
     "cell_type": "markdown",
     "metadata": {},
     "source": [
      "Python sequences are *heterogeneous*, i.e., they can contain elements of different types."
     ]
    },
    {
     "cell_type": "code",
     "collapsed": false,
     "input": [
      "mixed_list = ['a', 1, 2.3, True, [1, 'b']]\n",
      "print mixed_list"
     ],
     "language": "python",
     "metadata": {},
     "outputs": [
      {
       "output_type": "stream",
       "stream": "stdout",
       "text": [
        "['a', 1, 2.3, True, [1, 'b']]\n"
       ]
      }
     ],
     "prompt_number": 7
    },
    {
     "cell_type": "markdown",
     "metadata": {},
     "source": [
      "The Python **`+`** operator can be used to concatenate lists."
     ]
    },
    {
     "cell_type": "code",
     "collapsed": false,
     "input": [
      "concatenated_list = ['a', 1] + [2.3, True] + [[1, 'b']]\n",
      "print concatenated_list"
     ],
     "language": "python",
     "metadata": {},
     "outputs": [
      {
       "output_type": "stream",
       "stream": "stdout",
       "text": [
        "['a', 1, 2.3, True, [1, 'b']]\n"
       ]
      }
     ],
     "prompt_number": 8
    },
    {
     "cell_type": "markdown",
     "metadata": {},
     "source": [
      "Individual elements of [*sequences*](http://docs.python.org/2/library/stdtypes.html#typesseq) (lists, strings and other data structures) can be accessed by specifying their zero-based index position within square brackets ('`[`', '`]`')."
     ]
    },
    {
     "cell_type": "code",
     "collapsed": false,
     "input": [
      "print single_instance_str[2], single_instance_list[2]"
     ],
     "language": "python",
     "metadata": {},
     "outputs": [
      {
       "output_type": "stream",
       "stream": "stdout",
       "text": [
        "k f\n"
       ]
      }
     ],
     "prompt_number": 9
    },
    {
     "cell_type": "markdown",
     "metadata": {},
     "source": [
      "Negative index values can be used to specify a position offset from the end of the sequence. It is often useful to use a `-1` index value to access the last element of a sequence."
     ]
    },
    {
     "cell_type": "code",
     "collapsed": false,
     "input": [
      "print single_instance_str[-1], single_instance_list[-1]"
     ],
     "language": "python",
     "metadata": {},
     "outputs": [
      {
       "output_type": "stream",
       "stream": "stdout",
       "text": [
        "d d\n"
       ]
      }
     ],
     "prompt_number": 10
    },
    {
     "cell_type": "markdown",
     "metadata": {},
     "source": [
      "The Python *slice notation* can be used to access subsequences by specifying two index positions separated by a colon (':'); `seq[start:stop]` returns all the elements in `seq` between `start` and `stop - 1` (inclusive)."
     ]
    },
    {
     "cell_type": "code",
     "collapsed": false,
     "input": [
      "print single_instance_str[2:4]\n",
      "print single_instance_list[2:4]"
     ],
     "language": "python",
     "metadata": {},
     "outputs": [
      {
       "output_type": "stream",
       "stream": "stdout",
       "text": [
        "k,\n",
        "['f', 'n']\n"
       ]
      }
     ],
     "prompt_number": 11
    },
    {
     "cell_type": "markdown",
     "metadata": {},
     "source": [
      "Slices indices can be negative values."
     ]
    },
    {
     "cell_type": "code",
     "collapsed": false,
     "input": [
      "print single_instance_str[-4:-2]\n",
      "print single_instance_list[-4:-2]"
     ],
     "language": "python",
     "metadata": {},
     "outputs": [
      {
       "output_type": "stream",
       "stream": "stdout",
       "text": [
        ",v\n",
        "['e', 'w']\n"
       ]
      }
     ],
     "prompt_number": 12
    },
    {
     "cell_type": "markdown",
     "metadata": {},
     "source": [
      "The `start` and/or `stop` index can be omitted. A common use of slices with a single index value is to access all but the first element or all but the last element of a sequence."
     ]
    },
    {
     "cell_type": "code",
     "collapsed": false,
     "input": [
      "print single_instance_str[:-1] # all but the last\n",
      "print single_instance_list[:-1]\n",
      "print single_instance_str[1:] # all but the first\n",
      "print single_instance_list[1:]"
     ],
     "language": "python",
     "metadata": {},
     "outputs": [
      {
       "output_type": "stream",
       "stream": "stdout",
       "text": [
        "p,k,f,n,f,n,f,c,n,w,e,?,k,y,w,n,p,w,o,e,w,v,\n",
        "['p', 'k', 'f', 'n', 'f', 'n', 'f', 'c', 'n', 'w', 'e', '?', 'k', 'y', 'w', 'n', 'p', 'w', 'o', 'e', 'w', 'v']\n",
        ",k,f,n,f,n,f,c,n,w,e,?,k,y,w,n,p,w,o,e,w,v,d\n",
        "['k', 'f', 'n', 'f', 'n', 'f', 'c', 'n', 'w', 'e', '?', 'k', 'y', 'w', 'n', 'p', 'w', 'o', 'e', 'w', 'v', 'd']\n"
       ]
      }
     ],
     "prompt_number": 13
    },
    {
     "cell_type": "markdown",
     "metadata": {},
     "source": [
      "Slice notation includes an optional third element, `step`, as in `seq[start:stop:step]`, that specifies the steps or increments by which elements are retrieved from `seq` between `start` and `step - 1`:"
     ]
    },
    {
     "cell_type": "code",
     "collapsed": false,
     "input": [
      "print single_instance_str\n",
      "print single_instance_str[::2] # print elements in even-numbered positions (the values, in this case)\n",
      "print single_instance_str[1::2] # print elements in odd-numbered positions (the commas, in this case)\n",
      "print single_instance_str[::-1] # reverse the string"
     ],
     "language": "python",
     "metadata": {},
     "outputs": [
      {
       "output_type": "stream",
       "stream": "stdout",
       "text": [
        "p,k,f,n,f,n,f,c,n,w,e,?,k,y,w,n,p,w,o,e,w,v,d\n",
        "pkfnfnfcnwe?kywnpwoewvd\n",
        ",,,,,,,,,,,,,,,,,,,,,,\n",
        "d,v,w,e,o,w,p,n,w,y,k,?,e,w,n,c,f,n,f,n,f,k,p\n"
       ]
      }
     ],
     "prompt_number": 14
    },
    {
     "cell_type": "markdown",
     "metadata": {},
     "source": [
      "The [Python tutorial](http://docs.python.org/2/tutorial/introduction.html) offers a helpful ASCII art representation to show how positive and negative indexes are interpreted:\n",
      "\n",
      "<pre>\n",
      " +---+---+---+---+---+\n",
      " | H | e | l | p | A |\n",
      " +---+---+---+---+---+\n",
      " 0   1   2   3   4   5\n",
      "-5  -4  -3  -2  -1\n",
      "</pre>"
     ]
    },
    {
     "cell_type": "markdown",
     "metadata": {},
     "source": [
      "Python statements are typically separated by newlines (rather than, say, the semi-colon in Java). Statements can extend over more than one line; it is generally best to break the lines after commas within parentheses, braces or brackets. Inserting a backslash character ('\\\\') at the end of a line will also enable continuation of the statement on the next line, but it is generally best to look for other alternatives."
     ]
    },
    {
     "cell_type": "code",
     "collapsed": false,
     "input": [
      "attribute_names = ['class', \n",
      "                   'cap-shape', 'cap-surface', 'cap-color', \n",
      "                   'bruises?', \n",
      "                   'odor', \n",
      "                   'gill-attachment', 'gill-spacing', 'gill-size', 'gill-color', \n",
      "                   'stalk-shape', 'stalk-root', \n",
      "                   'stalk-surface-above-ring', 'stalk-surface-below-ring', \n",
      "                   'stalk-color-above-ring', 'stalk-color-below-ring',\n",
      "                   'veil-type', 'veil-color', \n",
      "                   'ring-number', 'ring-type', \n",
      "                   'spore-print-color', \n",
      "                   'population', \n",
      "                   'habitat']\n",
      "print attribute_names"
     ],
     "language": "python",
     "metadata": {},
     "outputs": [
      {
       "output_type": "stream",
       "stream": "stdout",
       "text": [
        "['class', 'cap-shape', 'cap-surface', 'cap-color', 'bruises?', 'odor', 'gill-attachment', 'gill-spacing', 'gill-size', 'gill-color', 'stalk-shape', 'stalk-root', 'stalk-surface-above-ring', 'stalk-surface-below-ring', 'stalk-color-above-ring', 'stalk-color-below-ring', 'veil-type', 'veil-color', 'ring-number', 'ring-type', 'spore-print-color', 'population', 'habitat']\n"
       ]
      }
     ],
     "prompt_number": 15
    },
    {
     "cell_type": "markdown",
     "metadata": {},
     "source": [
      "The [`str.strip(\\[chars\\]`)](http://docs.python.org/2/library/stdtypes.html#str.strip) method returns a copy of `str` in which any leading or trailing `chars` are removed. If no `chars` are specified, it removes all leading and trailing whitespace. [*Whitespace* is any sequence of spaces, tabs (`'\\t'`) and/or newline (`'\\n'`) characters.] "
     ]
    },
    {
     "cell_type": "code",
     "collapsed": false,
     "input": [
      "print '*', '\\tp,k,f,n,f,n,f,c,n,w,e,?,k,y,w,n,p,w,o,e,w,v,d\\n', '*'"
     ],
     "language": "python",
     "metadata": {},
     "outputs": [
      {
       "output_type": "stream",
       "stream": "stdout",
       "text": [
        "* \tp,k,f,n,f,n,f,c,n,w,e,?,k,y,w,n,p,w,o,e,w,v,d\n",
        "*\n"
       ]
      }
     ],
     "prompt_number": 16
    },
    {
     "cell_type": "code",
     "collapsed": false,
     "input": [
      "print '*', '\\tp,k,f,n,f,n,f,c,n,w,e,?,k,y,w,n,p,w,o,e,w,v,d\\n'.strip(), '*'"
     ],
     "language": "python",
     "metadata": {},
     "outputs": [
      {
       "output_type": "stream",
       "stream": "stdout",
       "text": [
        "* p,k,f,n,f,n,f,c,n,w,e,?,k,y,w,n,p,w,o,e,w,v,d *\n"
       ]
      }
     ],
     "prompt_number": 17
    },
    {
     "cell_type": "markdown",
     "metadata": {},
     "source": [
      "A common programming pattern when dealing with CSV (comma-separated values) data files containing  is to repeatedly\n",
      "\n",
      "1. read a line from a file\n",
      "2. strip off any leading and trailing whitespace\n",
      "3. split the values separated by commas into a list\n",
      "\n",
      "We will get to repetition control structures (loops) and file input and output shortly, but here is an example of how `str.strip()` and `str.split()` be chained together in a single instruction:"
     ]
    },
    {
     "cell_type": "code",
     "collapsed": false,
     "input": [
      "single_instance_str = '\\tp,k,f,n,f,n,f,c,n,w,e,?,k,y,w,n,p,w,o,e,w,v,d\\n'\n",
      "single_instance_list = single_instance_str.strip().split(',') # first strip leading & trailing whitespace, then split on commas\n",
      "print single_instance_list"
     ],
     "language": "python",
     "metadata": {},
     "outputs": [
      {
       "output_type": "stream",
       "stream": "stdout",
       "text": [
        "['p', 'k', 'f', 'n', 'f', 'n', 'f', 'c', 'n', 'w', 'e', '?', 'k', 'y', 'w', 'n', 'p', 'w', 'o', 'e', 'w', 'v', 'd']\n"
       ]
      }
     ],
     "prompt_number": 18
    },
    {
     "cell_type": "markdown",
     "metadata": {},
     "source": [
      "The [`str.join(words)`](http://docs.python.org/2/library/string.html#string.join) method is the inverse of `str.split()`, returning a single string in which each string in the sequence of `words` is separated by `str`."
     ]
    },
    {
     "cell_type": "code",
     "collapsed": false,
     "input": [
      "print '*', ','.join(single_instance_list), '*'"
     ],
     "language": "python",
     "metadata": {},
     "outputs": [
      {
       "output_type": "stream",
       "stream": "stdout",
       "text": [
        "* p,k,f,n,f,n,f,c,n,w,e,?,k,y,w,n,p,w,o,e,w,v,d *\n"
       ]
      }
     ],
     "prompt_number": 19
    },
    {
     "cell_type": "markdown",
     "metadata": {},
     "source": [
      "A number of Python methods can be used on strings, lists and other sequences.\n",
      "\n",
      "The [`len(s)`](http://docs.python.org/2/library/functions.html#len) function can be used to find the length of (number of items in) a sequence `s`.  It will also return the number of items in a *dictionary*, a data structure we will cover further below."
     ]
    },
    {
     "cell_type": "code",
     "collapsed": false,
     "input": [
      "print len(single_instance_str), len(single_instance_list)"
     ],
     "language": "python",
     "metadata": {},
     "outputs": [
      {
       "output_type": "stream",
       "stream": "stdout",
       "text": [
        "47 23\n"
       ]
      }
     ],
     "prompt_number": 20
    },
    {
     "cell_type": "markdown",
     "metadata": {},
     "source": [
      "The **`in`** operator can be used to determine whether a sequence contains a value. \n",
      "\n",
      "Boolean values in Python are **`True`** and **`False`** (note the capitalization)."
     ]
    },
    {
     "cell_type": "code",
     "collapsed": false,
     "input": [
      "print ',' in single_instance_str, ',' in single_instance_list"
     ],
     "language": "python",
     "metadata": {},
     "outputs": [
      {
       "output_type": "stream",
       "stream": "stdout",
       "text": [
        "True False\n"
       ]
      }
     ],
     "prompt_number": 21
    },
    {
     "cell_type": "markdown",
     "metadata": {},
     "source": [
      "The [`s.count(x)`](http://docs.python.org/2/library/stdtypes.html#str.count) ormethod can be used to count the number of occurrences of item `x` in sequence `s`."
     ]
    },
    {
     "cell_type": "code",
     "collapsed": false,
     "input": [
      "print single_instance_str.count(','), single_instance_list.count('f')"
     ],
     "language": "python",
     "metadata": {},
     "outputs": [
      {
       "output_type": "stream",
       "stream": "stdout",
       "text": [
        "22 3\n"
       ]
      }
     ],
     "prompt_number": 22
    },
    {
     "cell_type": "markdown",
     "metadata": {},
     "source": [
      "The [`s.index(x)`](http://docs.python.org/2/library/stdtypes.html#str.index) method can be used to find the first 0-based index of item `x` in sequence `s`. "
     ]
    },
    {
     "cell_type": "code",
     "collapsed": false,
     "input": [
      "print single_instance_str.index(','), single_instance_list.index('f')"
     ],
     "language": "python",
     "metadata": {},
     "outputs": [
      {
       "output_type": "stream",
       "stream": "stdout",
       "text": [
        "2 2\n"
       ]
      }
     ],
     "prompt_number": 23
    },
    {
     "cell_type": "markdown",
     "metadata": {},
     "source": [
      "One important distinction between strings and lists has to do with their [*mutability*](http://docs.python.org/2/reference/datamodel.html).\n",
      "\n",
      "Python strings are *immutable*, i.e., they cannot be modified. Most string methods (like `str.strip()`) return modified *copies* of the strings on which they are used.\n",
      "\n",
      "Python lists are *mutable*, i.e., they can be modified. \n",
      "\n",
      "The examples below illustrate a number of [`list`](http://docs.python.org/2/tutorial/datastructures.html#more-on-lists) methods that modify lists."
     ]
    },
    {
     "cell_type": "code",
     "collapsed": false,
     "input": [
      "list_1 = [4, 2, 3, 5, 1]\n",
      "list_2 = list_1 # list_2 now references the same object as list_1\n",
      "print 'list_1:          ', list_1\n",
      "print 'list_2:          ', list_2\n",
      "list_1.remove(1)\n",
      "print 'list_1.remove(1):', list_1\n",
      "list_1.append(6)\n",
      "print 'list_1.append(6):', list_1\n",
      "list_1.sort()\n",
      "print 'list_1.sort():   ', list_1\n",
      "list_1.reverse()\n",
      "print 'list_1.reverse():', list_1"
     ],
     "language": "python",
     "metadata": {},
     "outputs": [
      {
       "output_type": "stream",
       "stream": "stdout",
       "text": [
        "list_1:           [4, 2, 3, 5, 1]\n",
        "list_2:           [4, 2, 3, 5, 1]\n",
        "list_1.remove(1): [4, 2, 3, 5]\n",
        "list_1.append(6): [4, 2, 3, 5, 6]\n",
        "list_1.sort():    [2, 3, 4, 5, 6]\n",
        "list_1.reverse(): [6, 5, 4, 3, 2]\n"
       ]
      }
     ],
     "prompt_number": 24
    },
    {
     "cell_type": "markdown",
     "metadata": {},
     "source": [
      "When more than one name (e.g., a variable) is bound to the same mutable object, changes made to that object are reflected in all names bound to that object. For example, in the second statement above, `list_2` is bound to the same object that is bound to `list_1`, namely, the list `[4, 2, 3, 5 1]`. All changes made to the object bound to `list_1` will thus be reflected in `list_2` (since they both reference the same object)."
     ]
    },
    {
     "cell_type": "code",
     "collapsed": false,
     "input": [
      "print 'list_1:          ', list_1\n",
      "print 'list_2:          ', list_2"
     ],
     "language": "python",
     "metadata": {},
     "outputs": [
      {
       "output_type": "stream",
       "stream": "stdout",
       "text": [
        "list_1:           [6, 5, 4, 3, 2]\n",
        "list_2:           [6, 5, 4, 3, 2]\n"
       ]
      }
     ],
     "prompt_number": 25
    },
    {
     "cell_type": "markdown",
     "metadata": {},
     "source": [
      "There are sorting and reversing functions, [`sorted()`](https://docs.python.org/2.7/library/functions.html#sorted) and [`reversed()`](https://docs.python.org/2.7/library/functions.html#reversed), that do not modify their arguments, and can thus be used on mutable or immutable objects. We will elaborate on each of these functions further below, but here are a couple of examples of how `sorted()` returns a sorted list of each element in its argument."
     ]
    },
    {
     "cell_type": "code",
     "collapsed": false,
     "input": [
      "print 'sorted(list_1):', sorted(list_1) # return a copy of list_1 in sorted order\n",
      "print 'list_1:        ', list_1\n",
      "print 'sorted(single_instance_str):', sorted(single_instance_str) # returns a list of sorted elements in the string\n",
      "print 'single_instance_str:        ', single_instance_str"
     ],
     "language": "python",
     "metadata": {},
     "outputs": [
      {
       "output_type": "stream",
       "stream": "stdout",
       "text": [
        "sorted(list_1): [2, 3, 4, 5, 6]\n",
        "list_1:         [6, 5, 4, 3, 2]\n",
        "sorted(single_instance_str): ['\\t', '\\n', ',', ',', ',', ',', ',', ',', ',', ',', ',', ',', ',', ',', ',', ',', ',', ',', ',', ',', ',', ',', ',', ',', '?', 'c', 'd', 'e', 'e', 'f', 'f', 'f', 'k', 'k', 'n', 'n', 'n', 'n', 'o', 'p', 'p', 'v', 'w', 'w', 'w', 'w', 'y']\n",
        "single_instance_str:         \tp,k,f,n,f,n,f,c,n,w,e,?,k,y,w,n,p,w,o,e,w,v,d\n",
        "\n"
       ]
      }
     ],
     "prompt_number": 26
    },
    {
     "cell_type": "markdown",
     "metadata": {},
     "source": [
      "A [*tuple*](http://docs.python.org/2/tutorial/datastructures.html#tuples-and-sequences) is an ordered, immutable sequence of 0 or more comma-delimited values enclosed in parentheses (`'('`, `')'`). Many of the functions that operate on strings and lists also operate on tuples."
     ]
    },
    {
     "cell_type": "code",
     "collapsed": false,
     "input": [
      "x = (1, 2, 3, 4, 5) # a tuple\n",
      "print 'x =', x, ', len(x) =', len(x), ', x.index(3) =', x.index(3), ', x[4:2:-1] = ', x[4:2:-1]\n",
      "print 'sorted(x, reverse=True):', sorted(x, reverse=True) # sorted always returns a list; reverse=True specifies reverse sort order"
     ],
     "language": "python",
     "metadata": {},
     "outputs": [
      {
       "output_type": "stream",
       "stream": "stdout",
       "text": [
        "x = (1, 2, 3, 4, 5) , len(x) = 5 , x.index(3) = 2 , x[4:2:-1] =  (5, 4)\n",
        "sorted(x, reverse=True): [5, 4, 3, 2, 1]\n"
       ]
      }
     ],
     "prompt_number": 27
    },
    {
     "cell_type": "markdown",
     "metadata": {},
     "source": [
      "If the `s.index(x)` or `list.remove(x)` method is used on a sequence `s` or `list` that does not contain the value `x`, a [`ValueError`](http://docs.python.org/2/library/exceptions.html#exceptions.ValueError) exception is raised."
     ]
    },
    {
     "cell_type": "code",
     "collapsed": false,
     "input": [
      "print x.index(6) # a ValueError will be raised"
     ],
     "language": "python",
     "metadata": {},
     "outputs": [
      {
       "ename": "ValueError",
       "evalue": "tuple.index(x): x not in tuple",
       "output_type": "pyerr",
       "traceback": [
        "\u001b[0;31m---------------------------------------------------------------------------\u001b[0m\n\u001b[0;31mValueError\u001b[0m                                Traceback (most recent call last)",
        "\u001b[0;32m<ipython-input-28-67b920d0bd80>\u001b[0m in \u001b[0;36m<module>\u001b[0;34m()\u001b[0m\n\u001b[0;32m----> 1\u001b[0;31m \u001b[0;32mprint\u001b[0m \u001b[0mx\u001b[0m\u001b[0;34m.\u001b[0m\u001b[0mindex\u001b[0m\u001b[0;34m(\u001b[0m\u001b[0;36m6\u001b[0m\u001b[0;34m)\u001b[0m \u001b[0;31m# a ValueError will be raised\u001b[0m\u001b[0;34m\u001b[0m\u001b[0m\n\u001b[0m",
        "\u001b[0;31mValueError\u001b[0m: tuple.index(x): x not in tuple"
       ]
      }
     ],
     "prompt_number": 28
    },
    {
     "cell_type": "heading",
     "level": 3,
     "metadata": {},
     "source": [
      "Conditionals"
     ]
    },
    {
     "cell_type": "markdown",
     "metadata": {},
     "source": [
      "One common approach to handling errors is to *look before you leap (LBYL)*, i.e., test for potential [exceptions](http://docs.python.org/2/tutorial/errors.html) before executing instructions that might raise those exceptions. \n",
      "\n",
      "This approach can be implemented using the [**`if`**](http://docs.python.org/2/tutorial/controlflow.html#if-statements) statement (which may optionally include an **`else`** and any number of **`elif`** clauses).\n",
      "\n",
      "The following is a simple example of an `if` statement:"
     ]
    },
    {
     "cell_type": "code",
     "collapsed": false,
     "input": [
      "class_value = 'e' # try changing this to 'p' or 'x'\n",
      "\n",
      "if class_value == 'e':\n",
      "    print 'edible'\n",
      "elif class_value == 'p':\n",
      "    print 'poisonous'\n",
      "else:\n",
      "    print 'unknown'"
     ],
     "language": "python",
     "metadata": {},
     "outputs": [
      {
       "output_type": "stream",
       "stream": "stdout",
       "text": [
        "edible\n"
       ]
      }
     ],
     "prompt_number": 29
    },
    {
     "cell_type": "markdown",
     "metadata": {},
     "source": [
      "Note that \n",
      "\n",
      "* a colon ('`:`') is used at the end of the lines with `if`, `else` or `elif`\n",
      "* no parentheses are required to enclose the boolean condition (it is presumed to include everything between `if` or `elif` and the colon)\n",
      "* the statements below each `if`, `elif` and `else` line are all indented\n",
      "\n",
      "Python does not have special characters to delimit statement blocks (like the '{' and '}' delimiters in Java); instead, sequences of statements with the same *indentation level* are treated as a statement block. The [Python Style Guide](http://legacy.python.org/dev/peps/pep-0008/) recommends using 4 spaces for each indentation level.\n",
      "\n",
      "An `if` statement can be used to follow the LBYL paradigm in preventing the `ValueError` that occured in an earlier example:"
     ]
    },
    {
     "cell_type": "code",
     "collapsed": false,
     "input": [
      "attribute = 'bruises' # try substituting 'bruises?' for 'bruises' and re-running this code\n",
      "\n",
      "if attribute in attribute_names:\n",
      "    i = attribute_names.index(attribute)\n",
      "    print attribute, 'is in position', i\n",
      "else:\n",
      "    print attribute, 'is not in', attribute_names"
     ],
     "language": "python",
     "metadata": {},
     "outputs": [
      {
       "output_type": "stream",
       "stream": "stdout",
       "text": [
        "bruises is not in ['class', 'cap-shape', 'cap-surface', 'cap-color', 'bruises?', 'odor', 'gill-attachment', 'gill-spacing', 'gill-size', 'gill-color', 'stalk-shape', 'stalk-root', 'stalk-surface-above-ring', 'stalk-surface-below-ring', 'stalk-color-above-ring', 'stalk-color-below-ring', 'veil-type', 'veil-color', 'ring-number', 'ring-type', 'spore-print-color', 'population', 'habitat']\n"
       ]
      }
     ],
     "prompt_number": 30
    },
    {
     "cell_type": "markdown",
     "metadata": {},
     "source": [
      "Another perspective on handling errors championed by some pythonistas is that it is [*easier to ask forgiveness than permission (EAFP)*](http://python.net/~goodger/projects/pycon/2007/idiomatic/handout.html#eafp-vs-lbyl).\n",
      "\n",
      "As in many practical applications of philosophy, religion or dogma, it is helpful to *think before you choose (TBYC)*. There are a number of factors to consider in deciding whether to follow the EAFP or LBYL paradigm, including code readability and the anticipated likelihood and relative severity of encountering an exception. Oran Looney wrote a blog post providing a nice overview of the debate over [LBYL vs. EAFP](http://oranlooney.com/lbyl-vs-eafp/).\n",
      "\n",
      "We will follow the LBYL paradigm throughout most of this primer. However, as an illustration of EAFP in Python, here is an alternate implementation of the functionality of the code above, using a [`try/except`](http://docs.python.org/2/tutorial/errors.html#handling-exceptions) statement."
     ]
    },
    {
     "cell_type": "code",
     "collapsed": false,
     "input": [
      "attribute = 'bruises' # try substituting 'bruises?' for 'bruises' and re-running this code\n",
      "\n",
      "try:\n",
      "    i = attribute_names.index(attribute)\n",
      "    print attribute, 'is in position', i\n",
      "except ValueError:\n",
      "    print attribute, 'is not found'"
     ],
     "language": "python",
     "metadata": {},
     "outputs": [
      {
       "output_type": "stream",
       "stream": "stdout",
       "text": [
        "bruises is not found\n"
       ]
      }
     ],
     "prompt_number": 31
    },
    {
     "cell_type": "markdown",
     "metadata": {},
     "source": [
      "The Python *null object* is **`None`** (note the capitalization)."
     ]
    },
    {
     "cell_type": "code",
     "collapsed": false,
     "input": [
      "attribute = 'bruises?'\n",
      "\n",
      "if attribute not in attribute_names: # equivalent to 'not attribute in attribute_names'\n",
      "    value = None\n",
      "else:\n",
      "    i = attribute_names.index(attribute)\n",
      "    value = single_instance_list[i]\n",
      "    \n",
      "print attribute, '=', value"
     ],
     "language": "python",
     "metadata": {},
     "outputs": [
      {
       "output_type": "stream",
       "stream": "stdout",
       "text": [
        "bruises? = f\n"
       ]
      }
     ],
     "prompt_number": 32
    },
    {
     "cell_type": "heading",
     "level": 3,
     "metadata": {},
     "source": [
      "Defining and calling functions"
     ]
    },
    {
     "cell_type": "markdown",
     "metadata": {},
     "source": [
      "Python [*functions definitions*](http://docs.python.org/2/tutorial/controlflow.html#defining-functions) start with the **`def`** keyword followed by a function name, a list of 0 or more comma-delimited *parameters* (aka 'formal parameters') enclosed within parentheses, and then a colon ('`:`'). \n",
      "\n",
      "A function definition may include one or more [**`return`**](http://docs.python.org/2/reference/simple_stmts.html#the-return-statement) statemens to indicate the value(s) returned to where the function is called. It is good practice to include a short [docstring](http://docs.python.org/2/tutorial/controlflow.html#tut-docstrings) to briefly describe the behavior of the function and the value(s) it returns."
     ]
    },
    {
     "cell_type": "code",
     "collapsed": false,
     "input": [
      "def attribute_value(instance, attribute, attribute_names):\n",
      "    '''Returns the value of attribute in instance, based on the position of attribute in the list of attribute_names'''\n",
      "    if attribute not in attribute_names:\n",
      "        return None\n",
      "    else:\n",
      "        i = attribute_names.index(attribute)\n",
      "        return instance[i] # using the parameter name here"
     ],
     "language": "python",
     "metadata": {},
     "outputs": [],
     "prompt_number": 33
    },
    {
     "cell_type": "markdown",
     "metadata": {},
     "source": [
      "A *function call* starts with the function name, followed by a list of 0 or more comma-delimited *arguments* (aka 'actual parameters') enclosed within parentheses. A function call can be used as a statement or within an expression."
     ]
    },
    {
     "cell_type": "code",
     "collapsed": false,
     "input": [
      "attribute = 'cap-shape' # try substituting any of the other attribute names shown above\n",
      "print attribute, '=', attribute_value(single_instance_list, attribute, attribute_names)"
     ],
     "language": "python",
     "metadata": {},
     "outputs": [
      {
       "output_type": "stream",
       "stream": "stdout",
       "text": [
        "cap-shape = k\n"
       ]
      }
     ],
     "prompt_number": 34
    },
    {
     "cell_type": "markdown",
     "metadata": {},
     "source": [
      "Note that Python does not distinguish between names used for *variables* and names used for *functions*. An assignment statement binds a value to a name; a function definition also binds a value to a name. At any given time, the value most recently bound to a name is the one that is used. \n",
      "\n",
      "The [`type(object)`](http://docs.python.org/2.7/library/functions.html#type) function returns the `type` of `object`."
     ]
    },
    {
     "cell_type": "code",
     "collapsed": false,
     "input": [
      "x = 0\n",
      "print 'x used as a variable:', x, type(x)\n",
      "def x():\n",
      "    print 'x'\n",
      "print 'x used as a function:', x, type(x)"
     ],
     "language": "python",
     "metadata": {},
     "outputs": [
      {
       "output_type": "stream",
       "stream": "stdout",
       "text": [
        "x used as a variable: 0 <type 'int'>\n",
        "x used as a function: <function x at 0x1082a6140> <type 'function'>\n"
       ]
      }
     ],
     "prompt_number": 35
    },
    {
     "cell_type": "markdown",
     "metadata": {},
     "source": [
      "Also note that Python function arguments are passed using *call by object reference*. Thus any modifications made to a parameter that has been passed a mutable object bound to a name as an argument will persist after the function exits."
     ]
    },
    {
     "cell_type": "code",
     "collapsed": false,
     "input": [
      "def insert_x(list_parameter):\n",
      "    '''Inserts \"x\" at the head of a list, modifying the list argument'''\n",
      "    list_parameter.insert(0, 'x')\n",
      "    print 'Inserted x:', list_parameter\n",
      "    return list_parameter\n",
      "\n",
      "insert_x([1, 2, 3]) # passing an unnamed object does not affect any existing names\n",
      "list_argument = [1, 2, 3] # passing a named object will affect the object bound to that name\n",
      "print 'Before:', list_argument\n",
      "insert_x(list_argument)\n",
      "print 'After:', list_argument"
     ],
     "language": "python",
     "metadata": {},
     "outputs": [
      {
       "output_type": "stream",
       "stream": "stdout",
       "text": [
        "Inserted x: ['x', 1, 2, 3]\n",
        "Before: [1, 2, 3]\n",
        "Inserted x: ['x', 1, 2, 3]\n",
        "After: ['x', 1, 2, 3]\n"
       ]
      }
     ],
     "prompt_number": 36
    },
    {
     "cell_type": "markdown",
     "metadata": {},
     "source": [
      "One way of preventing functions from modifying mutable objects passed as parameters is to make a copy of those objects inside the function. Here is another version of the function above that makes a shallow copy of the *list_parameter* using the slice operator. \n",
      "\n",
      "*\\[Note: the Python [copy](http://docs.python.org/2/library/copy.html) module provides both [shallow] [`copy()`](http://docs.python.org/2/library/copy.html#copy.copy) and [`deepcopy()`](http://docs.python.org/2/library/copy.html#copy.deepcopy) methods; we will cover modules further below.]*"
     ]
    },
    {
     "cell_type": "code",
     "collapsed": false,
     "input": [
      "def insert_x_copy(list_parameter):\n",
      "    '''Inserts \"x\" at the head of a list, without modifying the list argument'''\n",
      "    list_parameter_copy = list_parameter[:]\n",
      "    list_parameter_copy.insert(0, 'x')\n",
      "    print 'Inserted x:', list_parameter_copy\n",
      "    return list_parameter_copy\n",
      "\n",
      "insert_x_copy([1, 2, 3]) # passing an unnamed object does not affect any existing names\n",
      "list_argument = [1, 2, 3] # passing a named object will affect the object bound to that name\n",
      "print 'Before:', list_argument\n",
      "insert_x_copy(list_argument)\n",
      "print 'After:', list_argument"
     ],
     "language": "python",
     "metadata": {},
     "outputs": [
      {
       "output_type": "stream",
       "stream": "stdout",
       "text": [
        "Inserted x: ['x', 1, 2, 3]\n",
        "Before: [1, 2, 3]\n",
        "Inserted x: ['x', 1, 2, 3]\n",
        "After: [1, 2, 3]\n"
       ]
      }
     ],
     "prompt_number": 37
    },
    {
     "cell_type": "markdown",
     "metadata": {},
     "source": [
      "Python functions can return more than one value, by separating those return values with commas in the **return** statement. Multiple values are returned as a tuple. If the function-invoking expression is an assignment statement, multiple variables can be assigned the multiple values returned by the function in a single statement. This combining of values and subsequent separation is known as tuple *packing* and *unpacking*."
     ]
    },
    {
     "cell_type": "code",
     "collapsed": false,
     "input": [
      "def min_and_max(list_of_values):\n",
      "    '''Returns a tuple containing the min and max values in the list_of_values'''\n",
      "    return min(list_of_values), max(list_of_values)\n",
      "\n",
      "list_1 = [3, 1, 4, 2, 5]\n",
      "print 'min and max of', list_1, ':', min_and_max(list_1)\n",
      "\n",
      "min_and_max_list_1 = min_and_max(list_1) # a single variable is assigned the two-element tuple\n",
      "print 'min and max of', list_1, ':', min_and_max_list_1\n",
      "\n",
      "min_list_1, max_list_1 = min_and_max(list_1) # the 1st variable is assigned the 1st value, the 2nd variable is assigned the 2nd value\n",
      "print 'min and max of', list_1, ':', min_list_1, ',', max_list_1"
     ],
     "language": "python",
     "metadata": {},
     "outputs": [
      {
       "output_type": "stream",
       "stream": "stdout",
       "text": [
        "min and max of [3, 1, 4, 2, 5] : (1, 5)\n",
        "min and max of [3, 1, 4, 2, 5] : (1, 5)\n",
        "min and max of [3, 1, 4, 2, 5] : 1 , 5\n"
       ]
      }
     ],
     "prompt_number": 38
    },
    {
     "cell_type": "heading",
     "level": 3,
     "metadata": {},
     "source": [
      "Iteration: for, range"
     ]
    },
    {
     "cell_type": "markdown",
     "metadata": {},
     "source": [
      "The [**`for`**](http://docs.python.org/2/tutorial/controlflow.html#for-statements) statement iterates over the elements of a sequence.\n",
      "\n",
      "The [`range(stop)`](http://docs.python.org/2/tutorial/controlflow.html#the-range-function) function returns a list of values from 0 up to `stop - 1` (inclusive). "
     ]
    },
    {
     "cell_type": "code",
     "collapsed": false,
     "input": [
      "print 'Index values for attributes:', range(len(attribute_names)), '\\n'\n",
      "\n",
      "print 'Values for the', len(attribute_names), 'attributes:\\n'\n",
      "for i in range(len(attribute_names)):\n",
      "    print attribute_names[i], '=', attribute_value(single_instance_list, attribute_names[i], attribute_names)"
     ],
     "language": "python",
     "metadata": {},
     "outputs": [
      {
       "output_type": "stream",
       "stream": "stdout",
       "text": [
        "Index values for attributes: [0, 1, 2, 3, 4, 5, 6, 7, 8, 9, 10, 11, 12, 13, 14, 15, 16, 17, 18, 19, 20, 21, 22] \n",
        "\n",
        "Values for the 23 attributes:\n",
        "\n",
        "class = p\n",
        "cap-shape = k\n",
        "cap-surface = f\n",
        "cap-color = n\n",
        "bruises? = f\n",
        "odor = n\n",
        "gill-attachment = f\n",
        "gill-spacing = c\n",
        "gill-size = n\n",
        "gill-color = w\n",
        "stalk-shape = e\n",
        "stalk-root = ?\n",
        "stalk-surface-above-ring = k\n",
        "stalk-surface-below-ring = y\n",
        "stalk-color-above-ring = w\n",
        "stalk-color-below-ring = n\n",
        "veil-type = p\n",
        "veil-color = w\n",
        "ring-number = o\n",
        "ring-type = e\n",
        "spore-print-color = w\n",
        "population = v\n",
        "habitat = d\n"
       ]
      }
     ],
     "prompt_number": 39
    },
    {
     "cell_type": "markdown",
     "metadata": {},
     "source": [
      "The more general form of the function, [`range(start, stop[, step])`](http://docs.python.org/2/library/functions.html#range), returns a list of values from `start` to `stop - 1` (inclusive) increasing by `step` (which defaults to `1`), or from `start` down to `stop + 1` (inclusive) decreasing by `step` if `step` is negative."
     ]
    },
    {
     "cell_type": "code",
     "collapsed": false,
     "input": [
      "print 'range(5, 10):', range(5, 10)\n",
      "print 'range(10, 5, -1):', range(10, 5, -1)\n",
      "print 'range(0, 10, 2):', range(0, 10, 2)"
     ],
     "language": "python",
     "metadata": {},
     "outputs": [
      {
       "output_type": "stream",
       "stream": "stdout",
       "text": [
        "range(5, 10): [5, 6, 7, 8, 9]\n",
        "range(10, 5, -1): [10, 9, 8, 7, 6]\n",
        "range(0, 10, 2): [0, 2, 4, 6, 8]\n"
       ]
      }
     ],
     "prompt_number": 40
    },
    {
     "cell_type": "markdown",
     "metadata": {},
     "source": [
      "The [`xrange(stop[, stop[, step]])`](http://docs.python.org/2/library/functions.html#xrange) function is an [*iterable*](http://docs.python.org/2/glossary.html#term-iterable) version of the `range()` function. In the context of a `for` loop, it returns the *next* item of the sequence for each iteration of the loop rather than creating *all* the elements of the sequence before the first iteration. This can reduce memory consumption in cases where iteration over all the items is not required. \n",
      "\n",
      "The `range()` function returns a list, which can then be manipulated by any list or sequence methods. An *xrange object* can only be used in a `for` loop or the `len()` function. A related and slightly more general class of container objects, [*iterators*](http://docs.python.org/2/library/stdtypes.html#typeiter), include a [`next()`](http://docs.python.org/2/library/stdtypes.html#iterator.next) method for explicitly returning the next item in the container."
     ]
    },
    {
     "cell_type": "code",
     "collapsed": false,
     "input": [
      "print xrange(len(attribute_names)), '\\n'\n",
      "\n",
      "print 'Values for the', len(attribute_names), 'attributes:\\n'\n",
      "for i in xrange(len(attribute_names)):\n",
      "    print attribute_names[i], '=', attribute_value(single_instance_list, attribute_names[i], attribute_names)"
     ],
     "language": "python",
     "metadata": {},
     "outputs": [
      {
       "output_type": "stream",
       "stream": "stdout",
       "text": [
        "xrange(23) \n",
        "\n",
        "Values for the 23 attributes:\n",
        "\n",
        "class = p\n",
        "cap-shape = k\n",
        "cap-surface = f\n",
        "cap-color = n\n",
        "bruises? = f\n",
        "odor = n\n",
        "gill-attachment = f\n",
        "gill-spacing = c\n",
        "gill-size = n\n",
        "gill-color = w\n",
        "stalk-shape = e\n",
        "stalk-root = ?\n",
        "stalk-surface-above-ring = k\n",
        "stalk-surface-below-ring = y\n",
        "stalk-color-above-ring = w\n",
        "stalk-color-below-ring = n\n",
        "veil-type = p\n",
        "veil-color = w\n",
        "ring-number = o\n",
        "ring-type = e\n",
        "spore-print-color = w\n",
        "population = v\n",
        "habitat = d\n"
       ]
      }
     ],
     "prompt_number": 41
    },
    {
     "cell_type": "heading",
     "level": 3,
     "metadata": {},
     "source": [
      "Modules, namespaces and dotted notation"
     ]
    },
    {
     "cell_type": "markdown",
     "metadata": {},
     "source": [
      "A Python [***module***](http://docs.python.org/2/tutorial/modules.html) is a file containing related definitions (e.g., of functions and variables). Modules are used to help organize the Python [***namespaces***](http://docs.python.org/2/tutorial/classes.html#python-scopes-and-namespaces), the set of identifiers accessible in a particular contexts. All of the functions and variables we define in this IPython Notebook are in the `__main__` namespace, so accessing them does not require any specification of a module.\n",
      "\n",
      "A Python module named `simple_ml` (in the file `simple_ml.py`), contains a set of solutions to the exercises in this IPython Notebook. Accessing functions in that module requires that we first [`import`](http://docs.python.org/2/reference/simple_stmts.html#the-import-statement) the module, and then prefix the function names with the module name followed by a dot (this is known as ***dotted notation***).\n",
      "\n",
      "For example, the following function call Exercise 1 below: \n",
      "\n",
      "`simple_ml.print_attribute_names_and_values(single_instance_list, attribute_names)`\n",
      "\n",
      "uses dotted notation to reference the `print_attribute_names_and_values()` function in the `simple_ml` module.\n",
      "\n",
      "After you have defined your function in Exercise 1, you can test it by deleting the `simple_ml` module specification, so that the statement becomes\n",
      "\n",
      "`print_attribute_names_and_values(single_instance_list, attribute_names)`\n",
      "\n",
      "This will reference the `print_attribute_names_and_values()` function in the current namespace (`__main__`), i.e., the top-level interpreter environment. The `simple_ml.print_attribute_names_and_values()` function will still be accessible in the `simple_ml` namespace by using the \"`simple_ml.`\" prefix."
     ]
    },
    {
     "cell_type": "heading",
     "level": 3,
     "metadata": {},
     "source": [
      "Exercise 1: define print_attribute_names_and_values()"
     ]
    },
    {
     "cell_type": "markdown",
     "metadata": {},
     "source": [
      "Complete the following function definition, `print_attribute_names_and_values(instance, attribute_names)`, so that it generates exactly the same output as the code above."
     ]
    },
    {
     "cell_type": "code",
     "collapsed": false,
     "input": [
      "def print_attribute_names_and_values(instance, attribute_names):\n",
      "    '''Prints the attribute names and values for an instance'''\n",
      "    # your code goes here\n",
      "    return\n",
      "\n",
      "import simple_ml # this module contains my solutions to exercises\n",
      "# to test your function, delete the 'simple_ml.' module specification in the call to print_attribute_names_and_values() below\n",
      "simple_ml.print_attribute_names_and_values(single_instance_list, attribute_names)"
     ],
     "language": "python",
     "metadata": {},
     "outputs": [
      {
       "output_type": "stream",
       "stream": "stdout",
       "text": [
        "Values for the 23 attributes:\n",
        "\n",
        "class = p\n",
        "cap-shape = k\n",
        "cap-surface = f\n",
        "cap-color = n\n",
        "bruises? = f\n",
        "odor = n\n",
        "gill-attachment = f\n",
        "gill-spacing = c\n",
        "gill-size = n\n",
        "gill-color = w\n",
        "stalk-shape = e\n",
        "stalk-root = ?\n",
        "stalk-surface-above-ring = k\n",
        "stalk-surface-below-ring = y\n",
        "stalk-color-above-ring = w\n",
        "stalk-color-below-ring = n\n",
        "veil-type = p\n",
        "veil-color = w\n",
        "ring-number = o\n",
        "ring-type = e\n",
        "spore-print-color = w\n",
        "population = v\n",
        "habitat = d\n"
       ]
      }
     ],
     "prompt_number": 42
    },
    {
     "cell_type": "heading",
     "level": 3,
     "metadata": {},
     "source": [
      "File I/O"
     ]
    },
    {
     "cell_type": "markdown",
     "metadata": {},
     "source": [
      "Python [file input and output](http://docs.python.org/2/tutorial/inputoutput.html#reading-and-writing-files) is done through [file](http://docs.python.org/2/library/stdtypes.html#file-objects) objects. A file object is created with the [`open(name[, mode])`](http://docs.python.org/2/library/functions.html#open) statement, where `name` is a string representing the name of the file, and `mode` is `'r'` (read), `'w'` (write) or `'a'` (append); if no second argument is provided, the mode defaults to `'r'`.\n",
      "\n",
      "A common Python programming pattern for processing an input text file is to \n",
      "\n",
      "* [**`open`**](http://docs.python.org/2/library/functions.html#open) the file using a [**`with`**](http://docs.python.org/2/reference/compound_stmts.html#the-with-statement) statement (which will automatically [**`close`**](http://docs.python.org/2/library/stdtypes.html#file.close) the file after the statements inside the `with` execute)\n",
      "* iterate over each line in the file using a **`for`** statement\n",
      "\n",
      "The following code creates a list of instances, where each instance is a list of attribute values (like `instance_1_str` above). "
     ]
    },
    {
     "cell_type": "code",
     "collapsed": false,
     "input": [
      "all_instances = [] # initialize instances to an empty list\n",
      "data_filename = 'agaricus-lepiota.data'\n",
      "\n",
      "with open(data_filename, 'r') as f:\n",
      "    for line in f:\n",
      "        all_instances.append(line.strip().split(','))\n",
      "        \n",
      "print 'Read', len(all_instances), 'instances from', data_filename\n",
      "print 'First instance:', all_instances[0] # we don't want to print all the instances, so let's just print one to verify"
     ],
     "language": "python",
     "metadata": {},
     "outputs": [
      {
       "output_type": "stream",
       "stream": "stdout",
       "text": [
        "Read 8124 instances from agaricus-lepiota.data\n",
        "First instance: ['p', 'x', 's', 'n', 't', 'p', 'f', 'c', 'n', 'k', 'e', 'e', 's', 's', 'w', 'w', 'p', 'w', 'o', 'p', 'k', 's', 'u']\n"
       ]
      }
     ],
     "prompt_number": 43
    },
    {
     "cell_type": "heading",
     "level": 3,
     "metadata": {},
     "source": [
      "Exercise 2: define load_instances()"
     ]
    },
    {
     "cell_type": "markdown",
     "metadata": {},
     "source": [
      "Define a function, `load_instances(filename)`, that returns a list of instances in a text file. The function definition is started for you below. The function should exhibit the same behavior as the code above."
     ]
    },
    {
     "cell_type": "code",
     "collapsed": false,
     "input": [
      "def load_instances(filename):\n",
      "    '''Returns a list of instances stored in a file.\n",
      "    \n",
      "    filename is expected to have one list of comma-delimited attribute values per line, e.g.,\n",
      "        p,k,f,n,f,n,f,c,n,w,e,?,k,y,w,n,p,w,o,e,w,v,d'''\n",
      "    instances = []\n",
      "    # your code goes here\n",
      "    return instances\n",
      "\n",
      "data_filename = 'agaricus-lepiota.data'\n",
      "# to test your function, delete the 'simple_ml.' module specification in the call to load_instances() below\n",
      "all_instances_2 = simple_ml.load_instances(data_filename)\n",
      "print 'Read', len(all_instances_2), 'instances from', data_filename\n",
      "print 'First instance:', all_instances_2[0] "
     ],
     "language": "python",
     "metadata": {},
     "outputs": [
      {
       "output_type": "stream",
       "stream": "stdout",
       "text": [
        "Read 8124 instances from agaricus-lepiota.data\n",
        "First instance: ['p', 'x', 's', 'n', 't', 'p', 'f', 'c', 'n', 'k', 'e', 'e', 's', 's', 'w', 'w', 'p', 'w', 'o', 'p', 'k', 's', 'u']\n"
       ]
      }
     ],
     "prompt_number": 44
    },
    {
     "cell_type": "markdown",
     "metadata": {},
     "source": [
      "Output to text file is usually done via [`file.write(str)`](http://docs.python.org/2/library/stdtypes.html#file.write) method.\n",
      "\n",
      "As we saw earlier, the [`str.join(words)`](http://docs.python.org/2/library/stdtypes.html#str.join) method returns a single `str`-delimited string containing each of the strings in the list `words`.\n",
      "\n",
      "SQL and Hive database tables often use the pipe ('|') delimiter to separate column values for each row when they are stored as flat files. The following code creates a new data file using pipes rather than commas to separate the attribute values."
     ]
    },
    {
     "cell_type": "code",
     "collapsed": false,
     "input": [
      "print 'Converting to pipe delimiter, e.g.,', '|'.join(all_instances[0])\n",
      "\n",
      "datafile2 = 'agaricus-lepiota-2.data'\n",
      "with open(datafile2, 'w') as f:\n",
      "    for instance in all_instances:\n",
      "        f.write('|'.join(instance) + '\\n') # '+' is the concatenation operator when used with strings\n",
      "\n",
      "all_instances_3 = []\n",
      "with open(datafile2, 'r') as f:\n",
      "    for line in f:\n",
      "        all_instances_3.append(line.strip().split('|')) # note: changed ',' to '|'\n",
      "print 'Read', len(all_instances_3), 'instances from', datafile2\n",
      "print 'First instance:', all_instances_3[0] # we don't want to print all the instances, so let's just print one to verify"
     ],
     "language": "python",
     "metadata": {},
     "outputs": [
      {
       "output_type": "stream",
       "stream": "stdout",
       "text": [
        "Converting to pipe delimiter, e.g., p|x|s|n|t|p|f|c|n|k|e|e|s|s|w|w|p|w|o|p|k|s|u\n",
        "Read 8124 instances from agaricus-lepiota-2.data\n",
        "First instance: ['p', 'x', 's', 'n', 't', 'p', 'f', 'c', 'n', 'k', 'e', 'e', 's', 's', 'w', 'w', 'p', 'w', 'o', 'p', 'k', 's', 'u']\n"
       ]
      }
     ],
     "prompt_number": 45
    },
    {
     "cell_type": "heading",
     "level": 3,
     "metadata": {},
     "source": [
      "List comprehensions"
     ]
    },
    {
     "cell_type": "markdown",
     "metadata": {},
     "source": [
      "Python provides a powerful [*list comprehension*](http://docs.python.org/2/tutorial/datastructures.html#list-comprehensions) construct to simplify the creation of a list by specifying a formula in a single expression.\n",
      "\n",
      "Some programmers find list comprehensions confusing, and avoid their use. We won't rely on list comprehensions here, but will show examples with and without list comprehensions below.\n",
      "\n",
      "One common use of list comprehensions is in the context of the [str.join(words)](http://docs.python.org/2/library/string.html#string.join) method we saw earlier.\n",
      "\n",
      "If we wanted to construct a pipe-delimited string containing elements of the list, we could use a `for` loop to iteratively add list elements and pipe delimiters to a string. We would thereby add one pipe delimiter too many, and would thus have to shave that off at the end."
     ]
    },
    {
     "cell_type": "code",
     "collapsed": false,
     "input": [
      "pipe_delimited_string = ''\n",
      "for x in [1, 2, 3]:\n",
      "    pipe_delimited_string += str(x) + '|'\n",
      "pipe_delimited_string = pipe_delimited_string[:-1]\n",
      "pipe_delimited_string"
     ],
     "language": "python",
     "metadata": {},
     "outputs": [
      {
       "metadata": {},
       "output_type": "pyout",
       "prompt_number": 46,
       "text": [
        "'1|2|3'"
       ]
      }
     ],
     "prompt_number": 46
    },
    {
     "cell_type": "markdown",
     "metadata": {},
     "source": [
      "This process is much simpler using a list comprehension."
     ]
    },
    {
     "cell_type": "code",
     "collapsed": false,
     "input": [
      "'|'.join([str(x) for x in [1, 2, 3]])"
     ],
     "language": "python",
     "metadata": {},
     "outputs": [
      {
       "metadata": {},
       "output_type": "pyout",
       "prompt_number": 47,
       "text": [
        "'1|2|3'"
       ]
      }
     ],
     "prompt_number": 47
    },
    {
     "cell_type": "markdown",
     "metadata": {},
     "source": [
      "As noted in the initial description of the UCI mushroom set above, 2480 of the 8124 instances have missing values (denoted by `'?'`) for an attribute. There are several techniques for dealing with instances that include missing values, but to simplify things in the context of this primer - and following the example in the [Data Science for Business](http://www.data-science-for-biz.com/) book - we will restrict our focus to only those *clean* instances that have no missing values.\n",
      "\n",
      "We could use several lines of code - with an `if` statement inside a `for` loop - to create a `clean_instances` list from the `all_instances` list. Or we could use a list comprehension.\n",
      "\n",
      "We will show both approaches to creating `clean_instances` below."
     ]
    },
    {
     "cell_type": "code",
     "collapsed": false,
     "input": [
      "# version 1: using an if statement nested within a for statement\n",
      "clean_instances = []\n",
      "for instance in all_instances:\n",
      "    if '?' not in instance:\n",
      "        clean_instances.append(instance)\n",
      "        \n",
      "print len(clean_instances), 'clean instances'"
     ],
     "language": "python",
     "metadata": {},
     "outputs": [
      {
       "output_type": "stream",
       "stream": "stdout",
       "text": [
        "5644 clean instances\n"
       ]
      }
     ],
     "prompt_number": 48
    },
    {
     "cell_type": "code",
     "collapsed": false,
     "input": [
      "# version 2: using an equivalent list comprehension\n",
      "clean_instances_2 = [instance for instance in all_instances if '?' not in instance]\n",
      "\n",
      "print len(clean_instances_2), 'clean instances'"
     ],
     "language": "python",
     "metadata": {},
     "outputs": [
      {
       "output_type": "stream",
       "stream": "stdout",
       "text": [
        "5644 clean instances\n"
       ]
      }
     ],
     "prompt_number": 49
    },
    {
     "cell_type": "heading",
     "level": 3,
     "metadata": {},
     "source": [
      "Dictionaries (dicts)"
     ]
    },
    {
     "cell_type": "markdown",
     "metadata": {},
     "source": [
      "Although single character abbreviations of attribute values (e.g., 'x') allow for more compact data files, they are not as easy to understand by human readers as the longer attribute value descriptions (e.g., 'convex').\n",
      "\n",
      "A Python [dictionary (or `dict`)](http://docs.python.org/2/tutorial/datastructures.html#dictionaries) is an unordered, comma-delimited collection of *key, value* pairs, serving a siimilar function as a hash table or hashmap in other programming languages.\n",
      "\n",
      "We could create a dictionary for the `cap-type` attribute values shown above:\n",
      "\n",
      "> bell=b, conical=c, convex=x, flat=f, knobbed=k, sunken=s\n",
      "\n",
      "Since we will want to look up the value using the abbreviation (which is the representation of the value stored in the file), we will use the abbreviations as *keys* and the descriptions as *values*.\n",
      "\n",
      "A Python dictionary can be created by specifying all `key: value` pairs (with colons separating each *key* and *value*), or by adding them iteratively. We will use the first method below, and use the second method further below. A *value* in a Python dictionary (`dict`) is accessed by specifying its *key* using the general form `dict[key]`."
     ]
    },
    {
     "cell_type": "code",
     "collapsed": false,
     "input": [
      "attribute_values_cap_type = {'b': 'bell', 'c': 'conical', 'x': 'convex', 'f': 'flat', 'k': 'knobbed', 's': 'sunken'}\n",
      "\n",
      "attribute_value_abbrev = 'x'\n",
      "print attribute_value_abbrev, '=', attribute_values_cap_type[attribute_value_abbrev]"
     ],
     "language": "python",
     "metadata": {},
     "outputs": [
      {
       "output_type": "stream",
       "stream": "stdout",
       "text": [
        "x = convex\n"
       ]
      }
     ],
     "prompt_number": 50
    },
    {
     "cell_type": "markdown",
     "metadata": {},
     "source": [
      "A Python dictionary is an *iterable* container, so we can iterate over the keys in a dictionary using a `for` loop.\n",
      "\n",
      "Note that since a dictionary is an *unordered* collection, the sequence of abbreviations and associated values is not guaranteed to appear in any particular order. "
     ]
    },
    {
     "cell_type": "code",
     "collapsed": false,
     "input": [
      "for attribute_value_abbrev in attribute_values_cap_type:\n",
      "    print attribute_value_abbrev, '=', attribute_values_cap_type[attribute_value_abbrev]"
     ],
     "language": "python",
     "metadata": {},
     "outputs": [
      {
       "output_type": "stream",
       "stream": "stdout",
       "text": [
        "c = conical\n",
        "b = bell\n",
        "f = flat\n",
        "k = knobbed\n",
        "s = sunken\n",
        "x = convex\n"
       ]
      }
     ],
     "prompt_number": 51
    },
    {
     "cell_type": "markdown",
     "metadata": {},
     "source": [
      "Python supports *dictionary comprehensions*, which have a similar form as the *list comprehensions* described above.\n",
      "\n",
      "For example, if we provisionally omit the 'convex' cap-type (whose abbreviation is the last letter rather than first letter in the attribute name), we could construct a dictionary of abbreviations and descriptions using the following expression."
     ]
    },
    {
     "cell_type": "code",
     "collapsed": false,
     "input": [
      "attribute_values_cap_type_2 ={x[0]: x for x in ['bell', 'conical', 'flat', 'knobbed', 'sunken']}\n",
      "print attribute_values_cap_type_2"
     ],
     "language": "python",
     "metadata": {},
     "outputs": [
      {
       "output_type": "stream",
       "stream": "stdout",
       "text": [
        "{'s': 'sunken', 'c': 'conical', 'b': 'bell', 'k': 'knobbed', 'f': 'flat'}\n"
       ]
      }
     ],
     "prompt_number": 52
    },
    {
     "cell_type": "markdown",
     "metadata": {},
     "source": [
      "While it's useful to have a dictionary of values for the `cap-type` attribute, it would be even more useful to have a dictionary of values for every attribute. Earlier, we created a list of `attribute_names`; let's expand this to create a list of `attribute_values` wherein each list element is a dictionary.\n",
      "\n",
      "Rather than explicitly type in each dictionary entry in the Python interpreter, we'll define a function to read a file containing the list of attribute names, values and value abbreviations in the format shown above:\n",
      "\n",
      "* class: edible=e, poisonous=p\n",
      "* cap-shape: bell=b, conical=c, convex=x, flat=f, knobbed=k, sunken=s\n",
      "* cap-surface: fibrous=f, grooves=g, scaly=y, smooth=s\n",
      "* ..."
     ]
    },
    {
     "cell_type": "code",
     "collapsed": false,
     "input": [
      "def load_attribute_values(filename):\n",
      "    '''Returns a list of attribute values in a file.\n",
      "    \n",
      "    The attribute values are represented as dictionaries, wherein the keys are abbreviations and the values are descriptions.\n",
      "    filename is expected to have one attribute name and set of values per line, with the following format:\n",
      "        name: value_description=value_abbreviation[,value_description=value_abbreviation]*\n",
      "    for example\n",
      "        cap-shape: bell=b, conical=c, convex=x, flat=f, knobbed=k, sunken=s\n",
      "    The attribute value description dictionary created from this line would be the following:\n",
      "        {'c': 'conical', 'b': 'bell', 'f': 'flat', 'k': 'knobbed', 's': 'sunken', 'x': 'convex'}'''\n",
      "    attribute_values = []\n",
      "    with open(filename) as f:\n",
      "        for line in f:\n",
      "            attribute_name_and_value_string_list = line.strip().split(':')\n",
      "            attribute_name = attribute_name_and_value_string_list[0]\n",
      "            if len(attribute_name_and_value_string_list) < 2:\n",
      "                attribute_values.append({}) # no values for this attribute\n",
      "            else:\n",
      "                value_abbreviation_description_dict = {}\n",
      "                description_and_abbreviation_string_list = attribute_name_and_value_string_list[1].strip().split(',')\n",
      "                for description_and_abbreviation_string in description_and_abbreviation_string_list:\n",
      "                    description_and_abbreviation = description_and_abbreviation_string.strip().split('=')\n",
      "                    description = description_and_abbreviation[0]\n",
      "                    if len(description_and_abbreviation) < 2: # assumption: no more than 1 value is missing an abbreviation\n",
      "                        value_abbreviation_description_dict[None] = description\n",
      "                    else:\n",
      "                        abbreviation = description_and_abbreviation[1]\n",
      "                        value_abbreviation_description_dict[abbreviation] = description\n",
      "                attribute_values.append(value_abbreviation_description_dict)\n",
      "    return attribute_values\n",
      "\n",
      "attribute_filename = 'agaricus-lepiota.attributes'\n",
      "attribute_values = load_attribute_values(attribute_filename)\n",
      "print 'Read', len(attribute_values), 'attribute values from', attribute_filename\n",
      "print 'First attribute values list:', attribute_values[0]"
     ],
     "language": "python",
     "metadata": {},
     "outputs": [
      {
       "output_type": "stream",
       "stream": "stdout",
       "text": [
        "Read 23 attribute values from agaricus-lepiota.attributes\n",
        "First attribute values list: {'p': 'poisonous', 'e': 'edible'}\n"
       ]
      }
     ],
     "prompt_number": 53
    },
    {
     "cell_type": "heading",
     "level": 3,
     "metadata": {},
     "source": [
      "Exercise 3: define load_attribute_values()"
     ]
    },
    {
     "cell_type": "markdown",
     "metadata": {},
     "source": [
      "We earlier created the `attribute_names` list manually. The `load_attribute_values()` function above creates the `attribute_values` list automatically from the contents of a file ... each line of which starts with the name of each attribute ... which we discard.\n",
      "\n",
      "Complete the following function definition so that the code implements the functionality described in the docstring."
     ]
    },
    {
     "cell_type": "code",
     "collapsed": false,
     "input": [
      "def load_attribute_names_and_values(filename):\n",
      "    '''Returns a list of attribute names and values in a file.\n",
      "    \n",
      "    This list contains dictionaries wherein the keys are names \n",
      "    and the values are value description dictionariess.\n",
      "    \n",
      "    Each value description sub-dictionary will use the attribute value abbreviations as its keys \n",
      "    and the attribute descriptions as the values.\n",
      "    \n",
      "    filename is expected to have one attribute name and set of values per line, with the following format:\n",
      "        name: value_description=value_abbreviation[,value_description=value_abbreviation]*\n",
      "    for example\n",
      "        cap-shape: bell=b, conical=c, convex=x, flat=f, knobbed=k, sunken=s\n",
      "    The attribute name and values dictionary created from this line would be the following:\n",
      "        {'name': 'cap-shape', 'values': {'c': 'conical', 'b': 'bell', 'f': 'flat', 'k': 'knobbed', 's': 'sunken', 'x': 'convex'}}'''\n",
      "    attribute_names_and_values = [] # this will be a list of dicts\n",
      "    # your code goes here\n",
      "    return attribute_names_and_values\n",
      "\n",
      "attribute_filename = 'agaricus-lepiota.attributes'\n",
      "# to test your function, delete the 'simple_ml.' module specification in the call to load_attribute_names_and_values() below\n",
      "attribute_names_and_values = simple_ml.load_attribute_names_and_values(attribute_filename)\n",
      "print 'Read', len(attribute_names_and_values), 'attribute values from', attribute_filename\n",
      "print 'First attribute name:', attribute_names_and_values[0]['name'], '; values:', attribute_names_and_values[0]['values']"
     ],
     "language": "python",
     "metadata": {},
     "outputs": [
      {
       "output_type": "stream",
       "stream": "stdout",
       "text": [
        "Read 23 attribute values from agaricus-lepiota.attributes\n",
        "First attribute name: class ; values: {'p': 'poisonous', 'e': 'edible'}\n"
       ]
      }
     ],
     "prompt_number": 54
    },
    {
     "cell_type": "heading",
     "level": 3,
     "metadata": {},
     "source": [
      "Counting"
     ]
    },
    {
     "cell_type": "markdown",
     "metadata": {},
     "source": [
      "Data scientists often need to count things. For example, we might want to count the numbers of edible and poisonous mushrooms in the *clean_instances* list we created earlier."
     ]
    },
    {
     "cell_type": "code",
     "collapsed": false,
     "input": [
      "edible_count = 0\n",
      "for instance in clean_instances:\n",
      "    if instance[0] == 'e':\n",
      "        edible_count += 1 # this is shorthand for edible_count = edible_count + 1\n",
      "\n",
      "print 'There are', edible_count, 'edible mushrooms among the', len(clean_instances), 'clean instances'"
     ],
     "language": "python",
     "metadata": {},
     "outputs": [
      {
       "output_type": "stream",
       "stream": "stdout",
       "text": [
        "There are 3488 edible mushrooms among the 5644 clean instances\n"
       ]
      }
     ],
     "prompt_number": 55
    },
    {
     "cell_type": "markdown",
     "metadata": {},
     "source": [
      "More generally, we often want to count the number of occurrences (frequencies) of each possible value for an attribute. One way to do so is to create a dictionary where each dictionary key is an attribute value and each dictionary value is the count of instances with that attribute value.\n",
      "\n",
      "Using an ordinary dictionary, we must be careful to create a new dictionary entry the first time we see a new attribute value (that is not already contained in the dictionary)."
     ]
    },
    {
     "cell_type": "code",
     "collapsed": false,
     "input": [
      "cap_state_value_counts = {}\n",
      "for instance in clean_instances:\n",
      "    cap_state_value = instance[1] # cap-state is the 2nd attribute\n",
      "    if cap_state_value not in cap_state_value_counts:\n",
      "        cap_state_value_counts[cap_state_value] = 0\n",
      "    cap_state_value_counts[cap_state_value] += 1\n",
      "\n",
      "print 'Counts for each value of cap-state:'\n",
      "for value in cap_state_value_counts:\n",
      "    print value, ':', cap_state_value_counts[value]"
     ],
     "language": "python",
     "metadata": {},
     "outputs": [
      {
       "output_type": "stream",
       "stream": "stdout",
       "text": [
        "Counts for each value of cap-state:\n",
        "c : 4\n",
        "b : 300\n",
        "f : 2432\n",
        "k : 36\n",
        "s : 32\n",
        "x : 2840\n"
       ]
      }
     ],
     "prompt_number": 56
    },
    {
     "cell_type": "markdown",
     "metadata": {},
     "source": [
      "The Python [`collections`](http://docs.python.org/2/library/collections.html) module provides a number of high performance container datatypes. A frequently useful datatype is a [`defaultdict`](http://docs.python.org/2/library/collections.html#defaultdict-objects), which automatically creates an appropriate default value for a new key. For example, a `defaultdict(int)` automatically initializes a new dictionary entry to 0 (zero); a `defaultdict(list)` automatically initializes a new dictionary entry to the empty list (`[]`).\n",
      "\n",
      "After first importing `defaultdict` from `collections`, we can use `defaultdict(int)` to simplify the code above:"
     ]
    },
    {
     "cell_type": "code",
     "collapsed": false,
     "input": [
      "from collections import defaultdict # don't need to use collections.defaultdict() below\n",
      "\n",
      "cap_state_value_counts = defaultdict(int)\n",
      "for instance in clean_instances:\n",
      "    cap_state_value = instance[1]\n",
      "    cap_state_value_counts[cap_state_value] += 1\n",
      "\n",
      "print 'Counts for each value of cap-state:'\n",
      "for value in cap_state_value_counts:\n",
      "    print value, ':', cap_state_value_counts[value]"
     ],
     "language": "python",
     "metadata": {},
     "outputs": [
      {
       "output_type": "stream",
       "stream": "stdout",
       "text": [
        "Counts for each value of cap-state:\n",
        "c : 4\n",
        "b : 300\n",
        "f : 2432\n",
        "k : 36\n",
        "s : 32\n",
        "x : 2840\n"
       ]
      }
     ],
     "prompt_number": 57
    },
    {
     "cell_type": "heading",
     "level": 3,
     "metadata": {},
     "source": [
      "Exercise 4: define attribute_value_counts()"
     ]
    },
    {
     "cell_type": "markdown",
     "metadata": {},
     "source": [
      "Define a function, `attribute_value_counts(instances, attribute, attribute_names)`, that returns a `defaultdict` containing the counts of occurrences of each value of `attribute` in the list of `instances`. `attribute_names` is the list we created above, where each element is the name of an attribute."
     ]
    },
    {
     "cell_type": "code",
     "collapsed": false,
     "input": [
      "# your definition goes here\n",
      "\n",
      "attribute = 'cap-shape'\n",
      "# remove 'simple_ml.' below to test your function definition\n",
      "attribute_value_counts = simple_ml.attribute_value_counts(clean_instances, attribute, attribute_names)\n",
      "\n",
      "print 'Counts for each value of', attribute, ':'\n",
      "for value in attribute_value_counts:\n",
      "    print value, ':', attribute_value_counts[value]"
     ],
     "language": "python",
     "metadata": {},
     "outputs": [
      {
       "output_type": "stream",
       "stream": "stdout",
       "text": [
        "Counts for each value of cap-shape :\n",
        "c : 4\n",
        "b : 300\n",
        "f : 2432\n",
        "k : 36\n",
        "s : 32\n",
        "x : 2840\n"
       ]
      }
     ],
     "prompt_number": 58
    },
    {
     "cell_type": "heading",
     "level": 3,
     "metadata": {},
     "source": [
      "Sorting"
     ]
    },
    {
     "cell_type": "markdown",
     "metadata": {},
     "source": [
      "Earlier, we saw that there is a `list.sort()` method that will sort a list in-place, i.e., by replacing the original value of `list` with a sorted version of the elements in `list`. \n",
      "\n",
      "The Python [`sorted(iterable[, cmp[, key[, reverse]]])`](http://docs.python.org/2/library/functions.html#sorted) function can be used to return a *copy* of a list, dictionary or any other [*iterable*](http://docs.python.org/2/glossary.html#term-iterable) container it is passed, in ascending order."
     ]
    },
    {
     "cell_type": "code",
     "collapsed": false,
     "input": [
      "original_list = [3, 1, 4, 2, 5]\n",
      "sorted_list = sorted(original_list)\n",
      "print original_list\n",
      "print sorted_list"
     ],
     "language": "python",
     "metadata": {},
     "outputs": [
      {
       "output_type": "stream",
       "stream": "stdout",
       "text": [
        "[3, 1, 4, 2, 5]\n",
        "[1, 2, 3, 4, 5]\n"
       ]
      }
     ],
     "prompt_number": 59
    },
    {
     "cell_type": "markdown",
     "metadata": {},
     "source": [
      "Since it returns a copy, `sorted()` can be used with strings."
     ]
    },
    {
     "cell_type": "code",
     "collapsed": false,
     "input": [
      "print sorted('python')"
     ],
     "language": "python",
     "metadata": {},
     "outputs": [
      {
       "output_type": "stream",
       "stream": "stdout",
       "text": [
        "['h', 'n', 'o', 'p', 't', 'y']\n"
       ]
      }
     ],
     "prompt_number": 60
    },
    {
     "cell_type": "markdown",
     "metadata": {},
     "source": [
      "`sorted()` can also be used with dictionaries (it returns a sorted list of the dictionary *keys*)."
     ]
    },
    {
     "cell_type": "code",
     "collapsed": false,
     "input": [
      "print sorted(attribute_values_cap_type) # returns a list of sorted keys (but not values) in the dictionary"
     ],
     "language": "python",
     "metadata": {},
     "outputs": [
      {
       "output_type": "stream",
       "stream": "stdout",
       "text": [
        "['b', 'c', 'f', 'k', 's', 'x']\n"
       ]
      }
     ],
     "prompt_number": 61
    },
    {
     "cell_type": "markdown",
     "metadata": {},
     "source": [
      "However, we can use the sorted *keys* to access the *values* of a dictionary."
     ]
    },
    {
     "cell_type": "code",
     "collapsed": false,
     "input": [
      "for attribute_value_abbrev in sorted(attribute_values_cap_type):\n",
      "    print attribute_value_abbrev, '=', attribute_values_cap_type[attribute_value_abbrev]"
     ],
     "language": "python",
     "metadata": {},
     "outputs": [
      {
       "output_type": "stream",
       "stream": "stdout",
       "text": [
        "b = bell\n",
        "c = conical\n",
        "f = flat\n",
        "k = knobbed\n",
        "s = sunken\n",
        "x = convex\n"
       ]
      }
     ],
     "prompt_number": 62
    },
    {
     "cell_type": "markdown",
     "metadata": {},
     "source": [
      "An optional [keyword argument](http://docs.python.org/2/tutorial/controlflow.html#keyword-arguments), `reverse`, can be used to reverse the order of the sorted list returned by the function. The default value of this optional parameter is `False`, to get non-default behavior,  we must specify the name and value of the argument: `reverse=True`. "
     ]
    },
    {
     "cell_type": "code",
     "collapsed": false,
     "input": [
      "print sorted([3, 1, 4, 2, 5], reverse=True)"
     ],
     "language": "python",
     "metadata": {},
     "outputs": [
      {
       "output_type": "stream",
       "stream": "stdout",
       "text": [
        "[5, 4, 3, 2, 1]\n"
       ]
      }
     ],
     "prompt_number": 63
    },
    {
     "cell_type": "code",
     "collapsed": false,
     "input": [
      "print sorted(attribute_values_cap_type, reverse=True) "
     ],
     "language": "python",
     "metadata": {},
     "outputs": [
      {
       "output_type": "stream",
       "stream": "stdout",
       "text": [
        "['x', 's', 'k', 'f', 'c', 'b']\n"
       ]
      }
     ],
     "prompt_number": 64
    },
    {
     "cell_type": "code",
     "collapsed": false,
     "input": [
      "attribute = 'cap-shape'\n",
      "attribute_value_counts = simple_ml.attribute_value_counts(clean_instances, attribute, attribute_names)\n",
      "\n",
      "print 'Counts for each value of', attribute, ':'\n",
      "for value in sorted(attribute_value_counts):\n",
      "    print value, ':', attribute_value_counts[value]"
     ],
     "language": "python",
     "metadata": {},
     "outputs": [
      {
       "output_type": "stream",
       "stream": "stdout",
       "text": [
        "Counts for each value of cap-shape :\n",
        "b : 300\n",
        "c : 4\n",
        "f : 2432\n",
        "k : 36\n",
        "s : 32\n",
        "x : 2840\n"
       ]
      }
     ],
     "prompt_number": 65
    },
    {
     "cell_type": "heading",
     "level": 3,
     "metadata": {},
     "source": [
      "Sorting a dictionary by values"
     ]
    },
    {
     "cell_type": "markdown",
     "metadata": {},
     "source": [
      "We often want to sort a dictionary by its *values* rather than its *keys*. \n",
      "\n",
      "For example, when we printed out the counts of the attribute values for `cap-shape` above, the counts appeared in an ascending alphabetic order of their attribute names. It is often more helpful to show the attribute value counts in descending order of the counts (which are the values in that dictionary).\n",
      "\n",
      "There are a [variety of ways to sort a dictionary by values](http://writeonly.wordpress.com/2008/08/30/sorting-dictionaries-by-value-in-python-improved/), but the approach described in [PEP-256](http://legacy.python.org/dev/peps/pep-0265/) is generally considered the most efficient.\n",
      "\n",
      "In order to understand the components used in this approach, we will revisit and elaborate on a few concepts involving *dictionaries*, *iterators* and *modules*."
     ]
    },
    {
     "cell_type": "markdown",
     "metadata": {},
     "source": [
      "The [`dict.items()`](http://docs.python.org/2/library/stdtypes.html#dict.items) method returns an unordered list of `(key, value)` tuples in `dict`."
     ]
    },
    {
     "cell_type": "code",
     "collapsed": false,
     "input": [
      "attribute_values_cap_type.items()"
     ],
     "language": "python",
     "metadata": {},
     "outputs": [
      {
       "metadata": {},
       "output_type": "pyout",
       "prompt_number": 66,
       "text": [
        "[('c', 'conical'),\n",
        " ('b', 'bell'),\n",
        " ('f', 'flat'),\n",
        " ('k', 'knobbed'),\n",
        " ('s', 'sunken'),\n",
        " ('x', 'convex')]"
       ]
      }
     ],
     "prompt_number": 66
    },
    {
     "cell_type": "markdown",
     "metadata": {},
     "source": [
      "A related method, [`dict.iteritems()`](http://docs.python.org/2/library/stdtypes.html#dict.iteritems), returns an [`iterator`](http://docs.python.org/2/library/stdtypes.html#iterator-types) - a callable object that returns the *next* item in a sequence each time it is referenced (e.g., during each iteration of a for loop), which can be more efficient than generating *all* the items in the sequence before any are used. This is similar to the distinction between `xrange()` and `range()` described above."
     ]
    },
    {
     "cell_type": "code",
     "collapsed": false,
     "input": [
      "attribute_values_cap_type.iteritems()"
     ],
     "language": "python",
     "metadata": {},
     "outputs": [
      {
       "metadata": {},
       "output_type": "pyout",
       "prompt_number": 67,
       "text": [
        "<dictionary-itemiterator at 0x108f9adb8>"
       ]
      }
     ],
     "prompt_number": 67
    },
    {
     "cell_type": "code",
     "collapsed": false,
     "input": [
      "for key, value in attribute_values_cap_type.iteritems():\n",
      "    print key, value"
     ],
     "language": "python",
     "metadata": {},
     "outputs": [
      {
       "output_type": "stream",
       "stream": "stdout",
       "text": [
        "c conical\n",
        "b bell\n",
        "f flat\n",
        "k knobbed\n",
        "s sunken\n",
        "x convex\n"
       ]
      }
     ],
     "prompt_number": 68
    },
    {
     "cell_type": "markdown",
     "metadata": {},
     "source": [
      "The Python [`operator`](http://docs.python.org/2/library/operator.html) module contains a number of functions that perform object comparisons, logical operations, mathematical operations, sequence operations, and abstract type tests.\n",
      "\n",
      "To facilitate sorting a dictionary by values, we will use the [`operator.itemgetter(item)`](http://docs.python.org/2/library/operator.html#operator.itemgetter) function that can be used to retrieve an indexed value (`item`) in a tuple (such as a `(key, value)` pair returned by `[iter]items()`).\n",
      "\n",
      "We can use `operator.itemgetter(1)`) to reference the value - the 2nd item in each `(key, value)` tuple, (at zero-based index position 1) - rather than the key - the first item in each `(key, value)` tuple (at index position 0).\n",
      "\n",
      "We will use the optional keyword argument `key` in [`sorted(iterable[, cmp[, key[, reverse]]])`](http://docs.python.org/2/library/functions.html#sorted) to specify a *sorting* key that is not the same as the `dict` key (the `dict` key is the default *sorting* key)"
     ]
    },
    {
     "cell_type": "code",
     "collapsed": false,
     "input": [
      "import operator\n",
      "\n",
      "sorted(attribute_values_cap_type.iteritems(), key=operator.itemgetter(1))"
     ],
     "language": "python",
     "metadata": {},
     "outputs": [
      {
       "metadata": {},
       "output_type": "pyout",
       "prompt_number": 69,
       "text": [
        "[('b', 'bell'),\n",
        " ('c', 'conical'),\n",
        " ('x', 'convex'),\n",
        " ('f', 'flat'),\n",
        " ('k', 'knobbed'),\n",
        " ('s', 'sunken')]"
       ]
      }
     ],
     "prompt_number": 69
    },
    {
     "cell_type": "markdown",
     "metadata": {},
     "source": [
      "We can now sort the counts of attribute values in descending frequency of occurrence, and print them out using tuple unpacking."
     ]
    },
    {
     "cell_type": "code",
     "collapsed": false,
     "input": [
      "attribute = 'cap-shape'\n",
      "value_counts = simple_ml.attribute_value_counts(clean_instances, attribute, attribute_names)\n",
      "\n",
      "print 'Counts for each value of', attribute, ':'\n",
      "for value, count in sorted(value_counts.iteritems(), key=operator.itemgetter(1), reverse=True):\n",
      "    print value, ':', count"
     ],
     "language": "python",
     "metadata": {},
     "outputs": [
      {
       "output_type": "stream",
       "stream": "stdout",
       "text": [
        "Counts for each value of cap-shape :\n",
        "x : 2840\n",
        "f : 2432\n",
        "b : 300\n",
        "k : 36\n",
        "s : 32\n",
        "c : 4\n"
       ]
      }
     ],
     "prompt_number": 70
    },
    {
     "cell_type": "heading",
     "level": 3,
     "metadata": {},
     "source": [
      "Exercise 5: define print_all_attribute_value_counts()"
     ]
    },
    {
     "cell_type": "markdown",
     "metadata": {},
     "source": [
      "Define a function, `print_all_attribute_value_counts(instances, attribute_names)`, that prints each attribute name in `attribute_names`, and then for each attribute value, prints the value abbreviation, the count of occurrences of that value and the proportion of instances that have that attribute value.\n",
      "\n",
      "You may find it helpful to use [fancier output formatting](http://docs.python.org/2/tutorial/inputoutput.html#fancier-output-formatting). More details can be found in the Python documentation on [format string syntax](http://docs.python.org/2/library/string.html#format-string-syntax).\n",
      "\n",
      "Examples of the `str.format()` function used in conjunction with print statements is shown below, followed by sample output of the `simple_ml` version of `print_all_attribute_value_counts()` (which uses similar formatting, but without hard-coded values)."
     ]
    },
    {
     "cell_type": "code",
     "collapsed": false,
     "input": [
      "print 'Output of a sample line using str.format():'\n",
      "print 'class:', # comma at end keeps cursor on the same line for subsequent print statements\n",
      "print '{} = {} ({:5.3f}),'.format('e', 3488, 3488 / 5644.0),\n",
      "print '{} = {} ({:5.3f}),'.format('p', 2156, 2156 / 5644.0),\n",
      "print # a print statement with no arguments will advance the cursor to the beginning of the next line\n",
      "print 'End of sample line'"
     ],
     "language": "python",
     "metadata": {},
     "outputs": [
      {
       "output_type": "stream",
       "stream": "stdout",
       "text": [
        "Output of a sample line using str.format():\n",
        "class: e = 3488 (0.618), p = 2156 (0.382),\n",
        "End of sample line\n"
       ]
      }
     ],
     "prompt_number": 71
    },
    {
     "cell_type": "markdown",
     "metadata": {},
     "source": [
      "Define your version of `print_all_attribute_value_counts(instances, attribute_names)` below, deleting the `simple_ml.` module specification when you are ready to test your function."
     ]
    },
    {
     "cell_type": "code",
     "collapsed": false,
     "input": [
      "# your function definition goes here\n",
      "\n",
      "print '\\nCounts for all attributes and values:\\n'\n",
      "simple_ml.print_all_attribute_value_counts(clean_instances, attribute_names)"
     ],
     "language": "python",
     "metadata": {},
     "outputs": [
      {
       "output_type": "stream",
       "stream": "stdout",
       "text": [
        "\n",
        "Counts for all attributes and values:\n",
        "\n",
        "class: e = 3488 (0.618), p = 2156 (0.382),\n",
        "cap-shape: x = 2840 (0.503), f = 2432 (0.431), b = 300 (0.053), k = 36 (0.006), s = 32 (0.006), c = 4 (0.001),\n",
        "cap-surface: y = 2220 (0.393), f = 2160 (0.383), s = 1260 (0.223), g = 4 (0.001),\n",
        "cap-color: g = 1696 (0.300), n = 1164 (0.206), y = 1056 (0.187), w = 880 (0.156), e = 588 (0.104), b = 120 (0.021), p = 96 (0.017), c = 44 (0.008),\n",
        "bruises?: t = 3184 (0.564), f = 2460 (0.436),\n",
        "odor: n = 2776 (0.492), f = 1584 (0.281), a = 400 (0.071), l = 400 (0.071), p = 256 (0.045), c = 192 (0.034), m = 36 (0.006),\n",
        "gill-attachment: f = 5626 (0.997), a = 18 (0.003),\n",
        "gill-spacing: c = 4620 (0.819), w = 1024 (0.181),\n",
        "gill-size: b = 4940 (0.875), n = 704 (0.125),\n",
        "gill-color: p = 1384 (0.245), n = 984 (0.174), w = 966 (0.171), h = 720 (0.128), g = 656 (0.116), u = 480 (0.085), k = 408 (0.072), r = 24 (0.004), y = 22 (0.004),\n",
        "stalk-shape: t = 2880 (0.510), e = 2764 (0.490),\n",
        "stalk-root: b = 3776 (0.669), e = 1120 (0.198), c = 556 (0.099), r = 192 (0.034),\n",
        "stalk-surface-above-ring: s = 3736 (0.662), k = 1332 (0.236), f = 552 (0.098), y = 24 (0.004),\n",
        "stalk-surface-below-ring: s = 3544 (0.628), k = 1296 (0.230), f = 552 (0.098), y = 252 (0.045),\n",
        "stalk-color-above-ring: w = 3136 (0.556), p = 1008 (0.179), g = 576 (0.102), n = 448 (0.079), b = 432 (0.077), c = 36 (0.006), y = 8 (0.001),\n",
        "stalk-color-below-ring: w = 3088 (0.547), p = 1008 (0.179), g = 576 (0.102), n = 496 (0.088), b = 432 (0.077), c = 36 (0.006), y = 8 (0.001),\n",
        "veil-type: p = 5644 (1.000),\n",
        "veil-color: w = 5636 (0.999), y = 8 (0.001),\n",
        "ring-number: o = 5488 (0.972), t = 120 (0.021), n = 36 (0.006),\n",
        "ring-type: p = 3488 (0.618), l = 1296 (0.230), e = 824 (0.146), n = 36 (0.006),\n",
        "spore-print-color: n = 1920 (0.340), k = 1872 (0.332), h = 1584 (0.281), w = 148 (0.026), r = 72 (0.013), u = 48 (0.009),\n",
        "population: v = 2160 (0.383), y = 1688 (0.299), s = 1104 (0.196), a = 384 (0.068), n = 256 (0.045), c = 52 (0.009),\n",
        "habitat: d = 2492 (0.442), g = 1860 (0.330), p = 568 (0.101), u = 368 (0.065), m = 292 (0.052), l = 64 (0.011),\n"
       ]
      }
     ],
     "prompt_number": 72
    },
    {
     "cell_type": "heading",
     "level": 3,
     "metadata": {},
     "source": [
      "Navigation"
     ]
    },
    {
     "cell_type": "markdown",
     "metadata": {},
     "source": [
      "Notebooks in this primer:\n",
      "\n",
      "* [1. Introduction](1_Introduction.ipynb)\n",
      "* [2. Data Science: Basic Concepts](2_Data_Science_Basic_Concepts.ipynb)\n",
      "* **3. Python: Basic Concepts** (*you are here*)\n",
      "* [4. Using Python to Build and Use a Simple Decision Tree Classifier](4_Python_Simple_Decision_Tree.ipynb)\n",
      "* [5. Next Steps](5_Next_Steps.ipynb)"
     ]
    }
   ],
   "metadata": {}
  }
 ]
}