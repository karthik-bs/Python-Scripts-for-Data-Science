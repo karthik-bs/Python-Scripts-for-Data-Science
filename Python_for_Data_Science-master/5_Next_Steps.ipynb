{
 "metadata": {
  "name": "",
  "signature": "sha256:84e68912df2865badec94cd3908a4bf864847c8755dba09fd202622c4cbb21b1"
 },
 "nbformat": 3,
 "nbformat_minor": 0,
 "worksheets": [
  {
   "cells": [
    {
     "cell_type": "heading",
     "level": 1,
     "metadata": {},
     "source": [
      "Python for Data Science"
     ]
    },
    {
     "cell_type": "markdown",
     "metadata": {},
     "source": [
      "[Joe McCarthy](http://interrelativity.com/joe), \n",
      "*Director, Analytics & Data Science*, [Atigeo, LLC](http://atigeo.com)"
     ]
    },
    {
     "cell_type": "code",
     "collapsed": false,
     "input": [
      "from IPython.display import display, Image, HTML"
     ],
     "language": "python",
     "metadata": {},
     "outputs": [],
     "prompt_number": 1
    },
    {
     "cell_type": "heading",
     "level": 2,
     "metadata": {},
     "source": [
      "5. Next steps"
     ]
    },
    {
     "cell_type": "markdown",
     "metadata": {},
     "source": [
      "There are a variety of Python libraries - e.g., [Scikit-Learn](http://scikit-learn.org/) and [xPatterns](http://atigeo.com/technology/) - for building more full-featured decision trees and other types of models based on a variety of machine learning algorithms. Hopefully, this primer will have prepared you for learning how to use those libraries effectively.\n",
      "\n",
      "Many Python-based machine learning libraries use other external Python libraries such as [NumPy](http://www.numpy.org/), [SciPy](http://www.scipy.org/scipylib/), [Matplotlib](http://matplotlib.org/) and [pandas](http://pandas.pydata.org/). There are tutorials available for each of these libraries, including the following:\n",
      "\n",
      "* [Tentative NumPy Tutorial](http://wiki.scipy.org/Tentative_NumPy_Tutorial)\n",
      "* [SciPy Tutorial](http://docs.scipy.org/doc/scipy/reference/tutorial/)\n",
      "* [Matplotlib PyPlot Tutorial](http://matplotlib.org/1.3.1/users/pyplot_tutorial.html)\n",
      "* [Pandas Tutorials](http://pandas.pydata.org/pandas-docs/stable/tutorials.html) (especially [10 Minutes to Pandas](http://pandas.pydata.org/pandas-docs/stable/10min.html))\n",
      "\n",
      "There are many machine learning or data science resources that may be useful to help you continue the journey. Here is a sampling:\n",
      "\n",
      "* [An introduction to machine learning with scikit-learn](http://scikit-learn.org/stable/tutorial/basic/tutorial.html)\n",
      "* Olivier Grisel's Strata 2014 tutorial, [Parallel Machine Learning with scikit-learn and IPython](https://github.com/ogrisel/parallel_ml_tutorial)\n",
      "* Kaggle's [Getting Started With Python For Data Science](http://www.kaggle.com/wiki/GettingStartedWithPythonForDataScience)\n",
      "* Coursera's [Introduction to Data Science](https://www.coursera.org/course/datasci)\n",
      "\n",
      "Please feel free to contact the author ([Joe McCarthy](mailto:joe@interrelativity.com?subject=Python for Data Science)) to suggest additional resources."
     ]
    },
    {
     "cell_type": "heading",
     "level": 3,
     "metadata": {},
     "source": [
      "Navigation"
     ]
    },
    {
     "cell_type": "markdown",
     "metadata": {},
     "source": [
      "Notebooks in this primer:\n",
      "\n",
      "* [1. Introduction](1_Introduction.ipynb)\n",
      "* [2. Data Science: Basic Concepts](2_Data_Science_Basic_Concepts.ipynb)\n",
      "* [3. Python: Basic Concepts](3_Python_Basic_Concepts.ipynb)\n",
      "* [4. Using Python to Build and Use a Simple Decision Tree Classifier](4_Python_Simple_Decision_Tree.ipynb)\n",
      "* **5. Next Steps** (*you are here*)"
     ]
    }
   ],
   "metadata": {}
  }
 ]
}